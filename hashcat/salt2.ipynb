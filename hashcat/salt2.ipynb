{
 "cells": [
  {
   "cell_type": "markdown",
   "metadata": {
    "pycharm": {
     "name": "#%% md\n"
    }
   },
   "source": [
    "# Нахождения солей с помощью тремя существующими номерами телефонов"
   ]
  },
  {
   "cell_type": "code",
   "execution_count": 1,
   "metadata": {
    "collapsed": false,
    "jupyter": {
     "outputs_hidden": false
    },
    "pycharm": {
     "name": "#%%\n"
    }
   },
   "outputs": [
    {
     "name": "stdout",
     "output_type": "stream",
     "text": [
      "salt[1] = [4992064728]\n"
     ]
    }
   ],
   "source": [
    "t_num = [89106881090,89057801765,89809229343]\n",
    "\n",
    "potfile = open(\"hashcat.potfile\", \"r\")\n",
    "array_salts_num = []\n",
    "for md5 in potfile:\n",
    "     array_salts_num.append(int(md5[33:44]))\n",
    "\n",
    "\n",
    "def salts(t_num:int,array_salts_num):\n",
    "    salt = []\n",
    "    for salts_num in array_salts_num:\n",
    "        salt.append(salts_num-t_num)\n",
    "    return salt\n",
    "\n",
    "salts1 = salts(t_num[0],array_salts_num)\n",
    "salts2 = salts(t_num[1],array_salts_num)\n",
    "salts3 = salts(t_num[2],array_salts_num)\n",
    "\n",
    "salt_res = set(salts1) & set(salts2) & set(salts3)\n",
    "\n",
    "print(f\"salt[{len(salt_res)}] = {list(salt_res)}\")"
   ]
  },
  {
   "cell_type": "code",
   "execution_count": null,
   "metadata": {
    "collapsed": false,
    "jupyter": {
     "outputs_hidden": false
    },
    "pycharm": {
     "name": "#%%\n"
    }
   },
   "outputs": [],
   "source": []
  }
 ],
 "metadata": {
  "kernelspec": {
   "display_name": "Python 3 (ipykernel)",
   "language": "python",
   "name": "python3"
  },
  "language_info": {
   "codemirror_mode": {
    "name": "ipython",
    "version": 3
   },
   "file_extension": ".py",
   "mimetype": "text/x-python",
   "name": "python",
   "nbconvert_exporter": "python",
   "pygments_lexer": "ipython3",
   "version": "3.8.10"
  }
 },
 "nbformat": 4,
 "nbformat_minor": 4
}