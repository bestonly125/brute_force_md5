{
 "cells": [
  {
   "cell_type": "code",
   "execution_count": 15,
   "metadata": {
    "collapsed": true,
    "pycharm": {
     "name": "#%%\n"
    }
   },
   "outputs": [],
   "source": [
    "import os\n",
    "from openpyxl import load_workbook"
   ]
  },
  {
   "cell_type": "markdown",
   "source": [
    "### Подключаемся к обезличенному набору данных\n",
    "Нужно заполнить таблицу по примеру, который показан ниже.\n",
    "\n",
    "\n",
    "| Номер телефона                   | Скоринговый балл |\n",
    "|----------------------------------|------------------|\n",
    "| c210baab81dbbfd3a7f43fb869069fe7 | 0,731            |\n"
   ],
   "metadata": {
    "collapsed": false,
    "pycharm": {
     "name": "#%% md\n"
    }
   }
  },
  {
   "cell_type": "code",
   "execution_count": 16,
   "outputs": [],
   "source": [
    "md5_list = open('md5_list.txt', \"w\")\n",
    "wb = load_workbook(\"scoring_data_v.0.3.3.xlsx\")\n",
    "ws = wb[\"A2\"]"
   ],
   "metadata": {
    "collapsed": false,
    "pycharm": {
     "name": "#%%\n"
    }
   }
  },
  {
   "cell_type": "markdown",
   "source": [
    "### Набор обезличенных данных преобразуем в текстовый документ для быстрого перебора"
   ],
   "metadata": {
    "collapsed": false,
    "pycharm": {
     "name": "#%% md\n"
    }
   }
  },
  {
   "cell_type": "code",
   "execution_count": 17,
   "outputs": [],
   "source": [
    "for i in range(2,len(ws[\"A\"])+1):\n",
    "    md5_list.write(f\"{ws['A' + str(i)].value}\\n\")\n",
    "md5_list.close()"
   ],
   "metadata": {
    "collapsed": false,
    "pycharm": {
     "name": "#%%\n"
    }
   }
  },
  {
   "cell_type": "markdown",
   "source": [
    "### Проверка текстового документа на наличие заполнения"
   ],
   "metadata": {
    "collapsed": false,
    "pycharm": {
     "name": "#%% md\n"
    }
   }
  },
  {
   "cell_type": "code",
   "execution_count": 18,
   "outputs": [
    {
     "name": "stdout",
     "output_type": "stream",
     "text": [
      "len = True\n"
     ]
    }
   ],
   "source": [
    "read_md5_list = open(\"md5_list.txt\", \"r\")\n",
    "print(f\"len = {bool(read_md5_list)}\")"
   ],
   "metadata": {
    "collapsed": false,
    "pycharm": {
     "name": "#%%\n"
    }
   }
  },
  {
   "cell_type": "markdown",
   "source": [
    "### Вызываем библиотеку hashcat. Перебор данных осуществляется с помощью масок с длиной 11 символов"
   ],
   "metadata": {
    "collapsed": false,
    "pycharm": {
     "name": "#%% md\n"
    }
   }
  },
  {
   "cell_type": "code",
   "execution_count": 19,
   "outputs": [
    {
     "name": "stdout",
     "output_type": "stream",
     "text": [
      "hashcat (v6.2.5) starting\n",
      "\n",
      "\u001B[33m* Device #1: WARNING! Kernel exec timeout is not disabled.\u001B[0m\n",
      "\u001B[33m             This may cause \"CL_OUT_OF_RESOURCES\" or related errors.\u001B[0m\n",
      "\u001B[33m             To disable the timeout, see: https://hashcat.net/q/timeoutpatch\u001B[0m\n",
      "\u001B[33m* Device #2: WARNING! Kernel exec timeout is not disabled.\u001B[0m\n",
      "\u001B[33m             This may cause \"CL_OUT_OF_RESOURCES\" or related errors.\u001B[0m\n",
      "\u001B[33m             To disable the timeout, see: https://hashcat.net/q/timeoutpatch\u001B[0m\n",
      "CUDA API (CUDA 11.7)\n",
      "====================\n",
      "* Device #1: NVIDIA GeForce GTX 1650, 3378/3903 MB, 14MCU\n",
      "\n",
      "OpenCL API (OpenCL 3.0 CUDA 11.7.101) - Platform #1 [NVIDIA Corporation]\n",
      "========================================================================\n",
      "* Device #2: NVIDIA GeForce GTX 1650, skipped\n",
      "\n",
      "Minimum password length supported by kernel: 0\n",
      "Maximum password length supported by kernel: 256\n",
      "\n",
      "INFO: All hashes found in potfile! Use --show to display them.2K\n",
      "\n",
      "Started: Wed Aug 10 22:30:18 2022\n",
      "Stopped: Wed Aug 10 22:30:19 2022\n"
     ]
    }
   ],
   "source": [
    "if bool(read_md5_list) is True:\n",
    "    os.system(\"./hashcat.bin -m0 -a3 md5_list.txt ?d?d?d?d?d?d?d?d?d?d?d\")"
   ],
   "metadata": {
    "collapsed": false,
    "pycharm": {
     "name": "#%%\n"
    }
   }
  },
  {
   "cell_type": "markdown",
   "source": [
    "```shell\n",
    "Session..........: hashcat\n",
    "Status...........: Cracked\n",
    "Hash.Mode........: 0 (MD5)\n",
    "Hash.Target......: md5_list.txt\n",
    "Time.Started.....: Sat Jul 30 23:10:54 2022 (45 secs)\n",
    "Time.Estimated...: Sat Jul 30 23:11:39 2022 (0 secs)\n",
    "Kernel.Feature...: Pure Kernel\n",
    "Guess.Mask.......: ?d?d?d?d?d?d?d?d?d?d?d [11]\n",
    "Guess.Queue......: 1/1 (100.00%)\n",
    "Speed.#1.........:  2183.2 MH/s (0.21ms) @ Accel:256 Loops:125 Thr:32 Vec:1\n",
    "Recovered........: 494936/494936 (100.00%) Digests\n",
    "Remaining........: 0 (0.00%) Digests\n",
    "Recovered/Time...: CUR:N/A,N/A,N/A AVG:N/A,N/A,N/A (Min,Hour,Day)\n",
    "Progress.........: 100000000000/100000000000 (100.00%)\n",
    "Rejected.........: 0/100000000000 (0.00%)\n",
    "Restore.Point....: 99996664/100000000 (100.00%)\n",
    "Restore.Sub.#1...: Salt:0 Amplifier:875-1000 Iteration:0-125\n",
    "Candidate.Engine.: Device Generator\n",
    "Candidates.#1....: 46833549496 -> 68874949496\n",
    "Hardware.Mon.#1..: Temp: 52c Fan: 28% Util: 90% Core:1980MHz Mem:5000MHz Bus:16\n",
    "\n",
    "Started: Sat Jul 30 23:10:51 2022\n",
    "Stopped: Sat Jul 30 23:11:40 2022\n",
    "```"
   ],
   "metadata": {
    "collapsed": false,
    "pycharm": {
     "name": "#%% md\n"
    }
   }
  },
  {
   "cell_type": "code",
   "execution_count": 20,
   "outputs": [
    {
     "name": "stdout",
     "output_type": "stream",
     "text": [
      "all cracked hash in hashcat.profile\n"
     ]
    }
   ],
   "source": [
    "print(\"all cracked hash in hashcat.profile\")"
   ],
   "metadata": {
    "collapsed": false,
    "pycharm": {
     "name": "#%%\n"
    }
   }
  },
  {
   "cell_type": "markdown",
   "source": [
    "### Oтбор соли с существующими 3 номерами телефона\n",
    "Если тестирования проводится на новом наборе данных, нужно точно указать наши 3 новых номеров телефона для нахождения соли.\n",
    "```jupyterpython\n",
    "t_num = [89106881090,89057801765,89809229343]\n",
    "```\n",
    "Нужно сменит t_num на актуальные номера телефона"
   ],
   "metadata": {
    "collapsed": false,
    "pycharm": {
     "name": "#%% md\n"
    }
   }
  },
  {
   "cell_type": "code",
   "execution_count": 21,
   "outputs": [],
   "source": [
    "t_num = [89106881090,89057801765,89809229343]\n",
    "potfile = open(\"hashcat.potfile\", \"r\")\n",
    "dict_md5 = {}\n",
    "array_salts_num = []"
   ],
   "metadata": {
    "collapsed": false,
    "pycharm": {
     "name": "#%%\n"
    }
   }
  },
  {
   "cell_type": "markdown",
   "source": [
    "### Ф-я соли"
   ],
   "metadata": {
    "collapsed": false,
    "pycharm": {
     "name": "#%% md\n"
    }
   }
  },
  {
   "cell_type": "code",
   "execution_count": 22,
   "outputs": [],
   "source": [
    "def salts(t_num:int,array_salts_num):\n",
    "    salt = []\n",
    "    for salts_num in array_salts_num:\n",
    "        salt.append(salts_num-t_num)\n",
    "    return salt"
   ],
   "metadata": {
    "collapsed": false,
    "pycharm": {
     "name": "#%%\n"
    }
   }
  },
  {
   "cell_type": "markdown",
   "source": [
    "### Создания словаря md5"
   ],
   "metadata": {
    "collapsed": false,
    "pycharm": {
     "name": "#%% md\n"
    }
   }
  },
  {
   "cell_type": "code",
   "execution_count": 23,
   "outputs": [],
   "source": [
    "for md5 in potfile:\n",
    "    array_salts_num.append(int(md5[33:44]))\n",
    "    dict_md5[str(md5[:32])] = md5[33:44]"
   ],
   "metadata": {
    "collapsed": false,
    "pycharm": {
     "name": "#%%\n"
    }
   }
  },
  {
   "cell_type": "markdown",
   "source": [
    "### На примеры 3 номеров, выявляем истинную соль"
   ],
   "metadata": {
    "collapsed": false,
    "pycharm": {
     "name": "#%% md\n"
    }
   }
  },
  {
   "cell_type": "code",
   "execution_count": 24,
   "outputs": [
    {
     "name": "stdout",
     "output_type": "stream",
     "text": [
      "salt[1] = [4992064728]\n"
     ]
    }
   ],
   "source": [
    "salts1 = salts(t_num[0],array_salts_num)\n",
    "salts2 = salts(t_num[1],array_salts_num)\n",
    "salts3 = salts(t_num[2],array_salts_num)\n",
    "salt_res = set(salts1) & set(salts2) & set(salts3)\n",
    "print(f\"salt[{len(salt_res)}] = {sorted(salt_res)}\")"
   ],
   "metadata": {
    "collapsed": false,
    "pycharm": {
     "name": "#%%\n"
    }
   }
  },
  {
   "cell_type": "markdown",
   "source": [
    "### Деобезличенный набор данных хранится в scoring_data_v.1.0.xlsx"
   ],
   "metadata": {
    "collapsed": false,
    "pycharm": {
     "name": "#%% md\n"
    }
   }
  },
  {
   "cell_type": "code",
   "execution_count": 25,
   "outputs": [
    {
     "name": "stdout",
     "output_type": "stream",
     "text": [
      "Деобезличенный набор данных хранится в scoring_data_v.1.0.xlsx\n"
     ]
    }
   ],
   "source": [
    "for row in range(2,len(ws[\"A\"])+1):\n",
    "    if dict_md5[str(ws['A' + str(row)].value)]:\n",
    "          ws['A' + str(row)] = int(dict_md5[str(ws['A' + str(row)].value)])-list(salt_res)[0]\n",
    "wb.save(filename=\"scoring_data_v.1.0.xlsx\")\n",
    "print(\"Деобезличенный набор данных хранится в scoring_data_v.1.0.xlsx\")"
   ],
   "metadata": {
    "collapsed": false,
    "pycharm": {
     "name": "#%%\n"
    }
   }
  },
  {
   "cell_type": "code",
   "execution_count": null,
   "outputs": [],
   "source": [
    "os.system(\"rm -rf hashcat.potfile\")"
   ],
   "metadata": {
    "collapsed": false,
    "pycharm": {
     "name": "#%%\n"
    }
   }
  }
 ],
 "metadata": {
  "kernelspec": {
   "display_name": "Python 3",
   "language": "python",
   "name": "python3"
  },
  "language_info": {
   "codemirror_mode": {
    "name": "ipython",
    "version": 2
   },
   "file_extension": ".py",
   "mimetype": "text/x-python",
   "name": "python",
   "nbconvert_exporter": "python",
   "pygments_lexer": "ipython2",
   "version": "2.7.6"
  }
 },
 "nbformat": 4,
 "nbformat_minor": 0
}