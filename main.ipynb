{
 "cells": [
  {
   "cell_type": "code",
   "execution_count": 13,
   "metadata": {
    "pycharm": {
     "name": "#%%\n"
    }
   },
   "outputs": [],
   "source": [
    "import os\n",
    "from openpyxl import load_workbook\n",
    "import time\n",
    "import pandas as pd"
   ]
  },
  {
   "cell_type": "markdown",
   "metadata": {
    "pycharm": {
     "name": "#%% md\n"
    }
   },
   "source": [
    "### Подключаемся к обезличенному набору данных\n",
    "Нужно заполнить таблицу по примеру, который показан ниже.\n",
    "\n",
    "\n",
    "| Номер телефона                   | Скоринговый балл |\n",
    "|----------------------------------|------------------|\n",
    "| c210baab81dbbfd3a7f43fb869069fe7 | 0,731            |\n",
    "\n",
    "Если тестирования проводится на новом наборе данных, нужно точно указать наши 3 новых номеров телефона для нахождения соли.\n",
    "\n",
    "```jupyterpython\n",
    "t_num = [89106881090,89057801765,89809229343]\n",
    "```\n",
    "Нужно сменит t_num на актуальные номера телефона"
   ]
  },
  {
   "cell_type": "code",
   "execution_count": 14,
   "metadata": {
    "collapsed": false,
    "jupyter": {
     "outputs_hidden": false
    },
    "pycharm": {
     "name": "#%%\n"
    }
   },
   "outputs": [],
   "source": [
    "md5_list = open('hashcat/md5_list.txt', \"w\")\n",
    "wb = load_workbook(\"scoring_data_v.0.3.3.xlsx\")\n",
    "ws = wb[\"A2\"]\n",
    "# Oтбор соли с существующими 3 номерами телефона\n",
    "t_num = [89106881090,89057801765,89809229343]"
   ]
  },
  {
   "cell_type": "markdown",
   "metadata": {
    "pycharm": {
     "name": "#%% md\n"
    }
   },
   "source": [
    "### Набор обезличенных данных преобразуем в текстовый документ для быстрого перебора"
   ]
  },
  {
   "cell_type": "code",
   "execution_count": 15,
   "metadata": {
    "collapsed": false,
    "jupyter": {
     "outputs_hidden": false
    },
    "pycharm": {
     "name": "#%%\n"
    }
   },
   "outputs": [],
   "source": [
    "for i in range(2,len(ws[\"A\"])+1):\n",
    "    md5_list.write(f\"{ws['A' + str(i)].value}\\n\")\n",
    "md5_list.close()"
   ]
  },
  {
   "cell_type": "markdown",
   "metadata": {
    "pycharm": {
     "name": "#%% md\n"
    }
   },
   "source": [
    "### Проверка текстового документа на наличие заполнения"
   ]
  },
  {
   "cell_type": "code",
   "execution_count": 16,
   "metadata": {
    "collapsed": false,
    "jupyter": {
     "outputs_hidden": false
    },
    "pycharm": {
     "name": "#%%\n"
    }
   },
   "outputs": [
    {
     "name": "stdout",
     "output_type": "stream",
     "text": [
      "len = True\n"
     ]
    }
   ],
   "source": [
    "read_md5_list = open(\"hashcat/md5_list.txt\", \"r\")\n",
    "print(f\"len = {bool(read_md5_list)}\")"
   ]
  },
  {
   "cell_type": "markdown",
   "metadata": {
    "pycharm": {
     "name": "#%% md\n"
    }
   },
   "source": [
    "### Вызываем библиотеку hashcat. Перебор данных осуществляется с помощью масок с длиной 11 символов"
   ]
  },
  {
   "cell_type": "code",
   "execution_count": null,
   "metadata": {
    "collapsed": false,
    "jupyter": {
     "outputs_hidden": false
    },
    "pycharm": {
     "name": "#%%\n",
     "is_executing": true
    }
   },
   "outputs": [],
   "source": [
    "start_bf = time.time()\n",
    "if bool(read_md5_list) is True:\n",
    "    os.system(\"rm -rf ./hashcat/hashcat.potfile\")\n",
    "    os.system(\"./hashcat/hashcat.bin -m0 -a3 ./hashcat/md5_list.txt ?d?d?d?d?d?d?d?d?d?d?d\")\n",
    "end_bf = time.time()"
   ]
  },
  {
   "cell_type": "markdown",
   "metadata": {
    "pycharm": {
     "name": "#%% md\n"
    }
   },
   "source": [
    "#### Примерный отчет по брут форсу MD5\n",
    "```shell\n",
    "Session..........: hashcat\n",
    "Status...........: Cracked\n",
    "Hash.Mode........: 0 (MD5)\n",
    "Hash.Target......: md5_list.txt\n",
    "Time.Started.....: Sat Jul 30 23:10:54 2022 (45 secs)\n",
    "Time.Estimated...: Sat Jul 30 23:11:39 2022 (0 secs)\n",
    "Kernel.Feature...: Pure Kernel\n",
    "Guess.Mask.......: ?d?d?d?d?d?d?d?d?d?d?d [11]\n",
    "Guess.Queue......: 1/1 (100.00%)\n",
    "Speed.#1.........:  2183.2 MH/s (0.21ms) @ Accel:256 Loops:125 Thr:32 Vec:1\n",
    "Recovered........: 494936/494936 (100.00%) Digests\n",
    "Remaining........: 0 (0.00%) Digests\n",
    "Recovered/Time...: CUR:N/A,N/A,N/A AVG:N/A,N/A,N/A (Min,Hour,Day)\n",
    "Progress.........: 100000000000/100000000000 (100.00%)\n",
    "Rejected.........: 0/100000000000 (0.00%)\n",
    "Restore.Point....: 99996664/100000000 (100.00%)\n",
    "Restore.Sub.#1...: Salt:0 Amplifier:875-1000 Iteration:0-125\n",
    "Candidate.Engine.: Device Generator\n",
    "Candidates.#1....: 46833549496 -> 68874949496\n",
    "Hardware.Mon.#1..: Temp: 52c Fan: 28% Util: 90% Core:1980MHz Mem:5000MHz Bus:16\n",
    "\n",
    "Started: Sat Jul 30 23:10:51 2022\n",
    "Stopped: Sat Jul 30 23:11:40 2022\n",
    "```"
   ]
  },
  {
   "cell_type": "code",
   "execution_count": 18,
   "metadata": {
    "collapsed": false,
    "jupyter": {
     "outputs_hidden": false
    },
    "pycharm": {
     "name": "#%%\n"
    }
   },
   "outputs": [
    {
     "name": "stdout",
     "output_type": "stream",
     "text": [
      "all cracked hash in hashcat.profile\n"
     ]
    }
   ],
   "source": [
    "print(\"all cracked hash in hashcat.profile\")"
   ]
  },
  {
   "cell_type": "markdown",
   "metadata": {
    "pycharm": {
     "name": "#%% md\n"
    }
   },
   "source": [
    "### Oтбор соли с существующими 3 номерами телефона\n"
   ]
  },
  {
   "cell_type": "code",
   "execution_count": 19,
   "metadata": {
    "collapsed": false,
    "jupyter": {
     "outputs_hidden": false
    },
    "pycharm": {
     "name": "#%%\n"
    }
   },
   "outputs": [],
   "source": [
    "potfile = open(\"hashcat/hashcat.potfile\", \"r\")\n",
    "dict_md5 = {}\n",
    "array_salts_num = []"
   ]
  },
  {
   "cell_type": "markdown",
   "metadata": {
    "pycharm": {
     "name": "#%% md\n"
    }
   },
   "source": [
    "### Ф-я соли"
   ]
  },
  {
   "cell_type": "code",
   "execution_count": 20,
   "metadata": {
    "collapsed": false,
    "jupyter": {
     "outputs_hidden": false
    },
    "pycharm": {
     "name": "#%%\n"
    }
   },
   "outputs": [],
   "source": [
    "def salts(t_num:int,array_salts_num):\n",
    "    salt = []\n",
    "    for salts_num in array_salts_num:\n",
    "        salt.append(salts_num-t_num)\n",
    "    return salt"
   ]
  },
  {
   "cell_type": "markdown",
   "metadata": {
    "pycharm": {
     "name": "#%% md\n"
    }
   },
   "source": [
    "### Создания словаря md5"
   ]
  },
  {
   "cell_type": "code",
   "execution_count": 21,
   "metadata": {
    "collapsed": false,
    "jupyter": {
     "outputs_hidden": false
    },
    "pycharm": {
     "name": "#%%\n"
    }
   },
   "outputs": [],
   "source": [
    "for md5 in potfile:\n",
    "    array_salts_num.append(int(md5[33:44]))\n",
    "    dict_md5[str(md5[:32])] = md5[33:44]"
   ]
  },
  {
   "cell_type": "markdown",
   "metadata": {
    "pycharm": {
     "name": "#%% md\n"
    }
   },
   "source": [
    "### На примеры 3 номеров, выявляем истинную соль"
   ]
  },
  {
   "cell_type": "code",
   "execution_count": 22,
   "metadata": {
    "collapsed": false,
    "jupyter": {
     "outputs_hidden": false
    },
    "pycharm": {
     "name": "#%%\n"
    }
   },
   "outputs": [
    {
     "name": "stdout",
     "output_type": "stream",
     "text": [
      "salt[1] = [4992064728]\n"
     ]
    }
   ],
   "source": [
    "start_salt = time.time()\n",
    "salts1 = salts(t_num[0],array_salts_num)\n",
    "salts2 = salts(t_num[1],array_salts_num)\n",
    "salts3 = salts(t_num[2],array_salts_num)\n",
    "salt_res = set(salts1) & set(salts2) & set(salts3)\n",
    "end_salt = time.time()\n",
    "print(f\"salt[{len(salt_res)}] = {sorted(salt_res)}\")"
   ]
  },
  {
   "cell_type": "markdown",
   "metadata": {
    "pycharm": {
     "name": "#%% md\n"
    }
   },
   "source": [
    "### Деобезличенный набор данных хранится в scoring_data_v.1.0.xlsx"
   ]
  },
  {
   "cell_type": "code",
   "execution_count": 23,
   "metadata": {
    "collapsed": false,
    "jupyter": {
     "outputs_hidden": false
    },
    "pycharm": {
     "name": "#%%\n"
    }
   },
   "outputs": [
    {
     "name": "stdout",
     "output_type": "stream",
     "text": [
      "Расчетное время по brute force = 48.43 сек\n",
      "Расчетное время по соли = 0.17 сек\n",
      "Деобезличенный набор данных хранится в scoring_data_v.1.0.xlsx\n"
     ]
    },
    {
     "data": {
      "text/plain": "0"
     },
     "execution_count": 23,
     "metadata": {},
     "output_type": "execute_result"
    }
   ],
   "source": [
    "for row in range(2,len(ws[\"A\"])+1):\n",
    "    if dict_md5[str(ws['A' + str(row)].value)]:\n",
    "          ws['A' + str(row)] = int(dict_md5[str(ws['A' + str(row)].value)])-list(salt_res)[0]\n",
    "          ws['C' + str(row)] = list(salt_res)[0]\n",
    "ws['C1'] = \"Соль\"\n",
    "ws['E2'] = f\"Расчетное время по brute force = {(round(end_bf - start_bf,2))} сек\"\n",
    "ws['E3'] = f\"Расчетное время по соли = {round(end_salt - start_salt,2)} сек\"\n",
    "print(f\"Расчетное время по brute force = {round(end_bf - start_bf,2)} сек\")\n",
    "print(f\"Расчетное время по соли = {round(end_salt - start_salt,2)} сек\")\n",
    "PATH_FILE_NAME = \"scoring_data_v.1.0.xlsx\"\n",
    "wb.save(filename=PATH_FILE_NAME)\n",
    "print(\"Деобезличенный набор данных хранится в scoring_data_v.1.0.xlsx\")\n",
    "\n",
    "os.system(\"libreoffice --writer scoring_data_v.1.0.xlsx\")"
   ]
  },
  {
   "cell_type": "code",
   "execution_count": 26,
   "metadata": {
    "collapsed": false,
    "jupyter": {
     "outputs_hidden": false
    },
    "pycharm": {
     "name": "#%%\n"
    }
   },
   "outputs": [
    {
     "name": "stdout",
     "output_type": "stream",
     "text": [
      "        Номер телефона  Скоринговый балл        Соль\n",
      "0          89106881090             0.678  4992064728\n",
      "1          89011175146             0.895  4992064728\n",
      "2          89066559837             0.617  4992064728\n",
      "3          89166628428             0.879  4992064728\n",
      "4          89866487191             0.861  4992064728\n",
      "...                ...               ...         ...\n",
      "499995     89838562913             0.452  4992064728\n",
      "499996     89668109220             0.097  4992064728\n",
      "499997     89178906047             0.749  4992064728\n",
      "499998     89158685933             0.124  4992064728\n",
      "499999     89838516240             0.823  4992064728\n",
      "\n",
      "[500000 rows x 3 columns]\n"
     ]
    }
   ],
   "source": [
    "print(pd.read_excel(PATH_FILE_NAME,usecols=[\"Номер телефона\",\"Скоринговый балл\",\"Соль\"]))"
   ]
  },
  {
   "cell_type": "code",
   "execution_count": null,
   "outputs": [],
   "source": [],
   "metadata": {
    "collapsed": false,
    "pycharm": {
     "name": "#%%\n"
    }
   }
  }
 ],
 "metadata": {
  "kernelspec": {
   "display_name": "Python 3 (ipykernel)",
   "language": "python",
   "name": "python3"
  },
  "language_info": {
   "codemirror_mode": {
    "name": "ipython",
    "version": 3
   },
   "file_extension": ".py",
   "mimetype": "text/x-python",
   "name": "python",
   "nbconvert_exporter": "python",
   "pygments_lexer": "ipython3",
   "version": "3.8.10"
  }
 },
 "nbformat": 4,
 "nbformat_minor": 4
}