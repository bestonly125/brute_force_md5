{
 "cells": [
  {
   "cell_type": "markdown",
   "source": [
    "# Нахождения солей с помощью тремя существующими номерами телефонов"
   ],
   "metadata": {
    "collapsed": false,
    "pycharm": {
     "name": "#%% md\n"
    }
   }
  },
  {
   "cell_type": "code",
   "execution_count": 1,
   "outputs": [
    {
     "name": "stdout",
     "output_type": "stream",
     "text": [
      "salt[1] = [4992064728]\n"
     ]
    }
   ],
   "source": [
    "t_num = [89106881090,89057801765,89809229343]\n",
    "\n",
    "potfile = open(\"hashcat.potfile\", \"r\")\n",
    "array_salts_num = []\n",
    "for md5 in potfile:\n",
    "     array_salts_num.append(int(md5[33:44]))\n",
    "\n",
    "\n",
    "def salts(t_num:int,array_salts_num):\n",
    "    salt = []\n",
    "    for salts_num in array_salts_num:\n",
    "        salt.append(salts_num-t_num)\n",
    "    return salt\n",
    "\n",
    "salts1 = salts(t_num[0],array_salts_num)\n",
    "salts2 = salts(t_num[1],array_salts_num)\n",
    "salts3 = salts(t_num[2],array_salts_num)\n",
    "\n",
    "salt_res = set(salts1) & set(salts2) & set(salts3)\n",
    "\n",
    "print(f\"salt[{len(salt_res)}] = {list(salt_res)}\")"
   ],
   "metadata": {
    "collapsed": false,
    "pycharm": {
     "name": "#%%\n"
    }
   }
  },
  {
   "cell_type": "code",
   "execution_count": null,
   "outputs": [],
   "source": [],
   "metadata": {
    "collapsed": false,
    "pycharm": {
     "name": "#%%\n"
    }
   }
  }
 ],
 "metadata": {
  "kernelspec": {
   "display_name": "Python 3",
   "language": "python",
   "name": "python3"
  },
  "language_info": {
   "codemirror_mode": {
    "name": "ipython",
    "version": 2
   },
   "file_extension": ".py",
   "mimetype": "text/x-python",
   "name": "python",
   "nbconvert_exporter": "python",
   "pygments_lexer": "ipython2",
   "version": "2.7.6"
  }
 },
 "nbformat": 4,
 "nbformat_minor": 0
}